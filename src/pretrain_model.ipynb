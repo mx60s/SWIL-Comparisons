{
 "cells": [
  {
   "cell_type": "code",
   "execution_count": null,
   "id": "83be74fb-3895-4941-be1a-9163de52ac1e",
   "metadata": {},
   "outputs": [],
   "source": [
    "from google.colab import drive\n",
    "drive.mount('/content/gdrive')"
   ]
  },
  {
   "cell_type": "code",
   "execution_count": null,
   "id": "9110909d-e402-422e-921a-312cf6f6fa68",
   "metadata": {},
   "outputs": [],
   "source": [
    "%cd / content/gdrive/MyDrive/cs394n_project/CS394N\n",
    "! pip3 install -r requirements.txt"
   ]
  },
  {
   "cell_type": "code",
   "execution_count": null,
   "id": "11277d80-a5fa-4a21-b100-bd381aec90ad",
   "metadata": {},
   "outputs": [],
   "source": [
    "# Update path for custom module support in Google Colab\n",
    "import sys\n",
    "sys.path.append('/content/gdrive/MyDrive/cs394n_project/CS394N/src')"
   ]
  },
  {
   "cell_type": "code",
   "execution_count": null,
   "id": "3db56d09-d308-4a30-a083-a45d924a20f8",
   "metadata": {},
   "outputs": [],
   "source": [
    "import torch\n",
    "import matplotlib.pyplot as plt\n",
    "import numpy as np\n",
    "\n",
    "from torch.utils.data import DataLoader\n",
    "\n",
    "from torchvision import transforms\n",
    "from torchvision.datasets import CIFAR10, FashionMNIST\n",
    "\n",
    "from tqdm.autonotebook import tqdm, trange\n",
    "\n",
    "from utils.nets import *\n",
    "from utils.model_tools import train, test, get_recall_per_epoch\n",
    "from utils.dataset_tools import split_training_data, reorder_classes"
   ]
  },
  {
   "cell_type": "code",
   "execution_count": null,
   "id": "4fbc9819-6fed-4138-9014-d43b26cb97c0",
   "metadata": {},
   "outputs": [],
   "source": [
    "# Get cpu or gpu device for training.\n",
    "device = \"cuda\" if torch.cuda.is_available() else \"cpu\"\n",
    "print(f\"Using {device} device\")"
   ]
  },
  {
   "cell_type": "markdown",
   "id": "9a9a4f48-74b5-425a-ae58-b2bce66ee6fe",
   "metadata": {
    "tags": []
   },
   "source": [
    "# Data Preparation"
   ]
  },
  {
   "cell_type": "code",
   "execution_count": null,
   "id": "eb412051-7fb3-4282-a646-f48694bf9346",
   "metadata": {},
   "outputs": [],
   "source": [
    "model_selection = 'linear' # linear | cnn | cnn-demo | vgg\n",
    "dataset_selection = 'fashionmnist' # cifar10 | fashionmnist"
   ]
  },
  {
   "cell_type": "code",
   "execution_count": null,
   "id": "fea5d479-967e-4a3b-8bf3-4cfbe8a46540",
   "metadata": {},
   "outputs": [],
   "source": [
    "if dataset_selection == 'fashionmnist':\n",
    "    transform = transforms.Compose([\n",
    "        transforms.ToTensor(),\n",
    "        transforms.Normalize((0.5), (0.5))]) # Images are grayscale -> 1 channel\n",
    "else:\n",
    "    transform = transforms.Compose([\n",
    "        transforms.ToTensor(),\n",
    "        transforms.Normalize((0.5, 0.5, 0.5), (0.5, 0.5, 0.5))])"
   ]
  },
  {
   "cell_type": "markdown",
   "id": "d691d724-11c0-4aca-90ad-c009291589a6",
   "metadata": {
    "tags": []
   },
   "source": [
    "## Load Dataset"
   ]
  },
  {
   "cell_type": "code",
   "execution_count": null,
   "id": "74cc57ef-04e9-44f1-a2f2-938359146d3c",
   "metadata": {},
   "outputs": [],
   "source": [
    "train_data = FashionMNIST(root='./data', train=True, download=True, transform=transform)\n",
    "test_data = FashionMNIST(root='./data', train=False, download=True, transform=transform)\n",
    "    \n",
    "total_classes = len(np.unique(train_data.targets))"
   ]
  },
  {
   "cell_type": "markdown",
   "id": "3c14b334-4494-4540-bf96-d98652c3fdcd",
   "metadata": {
    "tags": []
   },
   "source": [
    "## Reorder Classes"
   ]
  },
  {
   "cell_type": "code",
   "execution_count": null,
   "id": "94cc5f09-925b-41bb-a7e8-d7055b6974d3",
   "metadata": {},
   "outputs": [],
   "source": [
    "# FashionMNIST (torchvision & paper)\n",
    "# [\"T-shirt/top\", \"Trouser\", \"Pullover\", \"Dress\", \"Coat\", \"Sandal\", \"Shirt\", \"Sneaker\", \"Bag\", \"Ankle boot\"]"
   ]
  },
  {
   "cell_type": "code",
   "execution_count": null,
   "id": "f335b42c-3334-40bf-9382-0f2f252ff9ad",
   "metadata": {},
   "outputs": [],
   "source": [
    "help(reorder_classes)"
   ]
  },
  {
   "cell_type": "code",
   "execution_count": null,
   "id": "0a4542d4-aa3c-41db-beaa-9765a40f8735",
   "metadata": {},
   "outputs": [],
   "source": [
    "targets, classes = reorder_classes(train_data, ordering)\n",
    "train_data.targets = targets\n",
    "train_data.classes = classes\n",
    "\n",
    "targets, classes = reorder_classes(test_data, ordering)\n",
    "test_data.targets = targets\n",
    "test_data.classes = classes"
   ]
  },
  {
   "cell_type": "markdown",
   "id": "8c9f397d-58df-46fd-aaa2-0174ea088b20",
   "metadata": {},
   "source": [
    "## Create Subsets"
   ]
  },
  {
   "cell_type": "code",
   "execution_count": null,
   "id": "8d2e582b-ab21-46a1-a98a-a8d01b1a11a7",
   "metadata": {},
   "outputs": [],
   "source": [
    "holdout_classes = [8, 9]\n",
    "batch_size = 32"
   ]
  },
  {
   "cell_type": "code",
   "execution_count": null,
   "id": "d449c638-6f7d-421c-bcf4-1113a103ecea",
   "metadata": {},
   "outputs": [],
   "source": [
    "included_data, excluded_data = split_training_data(train_data, holdout_classes) \n",
    "\n",
    "train_inc_loader = DataLoader(included_data, batch_size=batch_size, shuffle=True, num_workers=2)\n",
    "train_exc_loader = DataLoader(included_data, batch_size=batch_size, shuffle=True, num_workers=2)"
   ]
  },
  {
   "cell_type": "code",
   "execution_count": null,
   "id": "92a48a13-2cc4-44fa-bfca-c3297e0fe5dc",
   "metadata": {},
   "outputs": [],
   "source": [
    "included_data, excluded_data = split_training_data(test_data, holdout_classes)\n",
    "\n",
    "test_inc_loader = DataLoader(included_data, batch_size=batch_size, shuffle=True, num_workers=2)\n",
    "test_exc_loader = DataLoader(included_data, batch_size=batch_size, shuffle=True, num_workers=2)"
   ]
  },
  {
   "cell_type": "markdown",
   "id": "f1b6288b-b051-478f-9210-db9a12954f4c",
   "metadata": {},
   "source": [
    "# Train Model"
   ]
  },
  {
   "cell_type": "markdown",
   "id": "b57d09e7-2dc6-4aea-aea7-6acebb722354",
   "metadata": {},
   "source": [
    "## Load Architecture"
   ]
  },
  {
   "cell_type": "code",
   "execution_count": null,
   "id": "b8feacc4-0223-467a-ab76-23ec70c5bc12",
   "metadata": {},
   "outputs": [],
   "source": [
    "num_classes = total_classes - len(holdout_classes)\n",
    "\n",
    "if model_selection == 'linear':\n",
    "    input_size = train_data[0][0].shape[0] * train_data[0][0].shape[1] * train_data[0][0].shape[2]\n",
    "    model = LinearFashionMNIST_alt(input_size, num_classes)\n",
    "elif model_selection == 'cnn':\n",
    "    model = CNN_6L(num_classes)\n",
    "elif model_selction == 'cnn-demo':\n",
    "    model = CNN_demo(num_classes)\n",
    "elif model_slection == 'vgg':\n",
    "    print('Model not implemented')\n",
    "    \n",
    "model.to(device)"
   ]
  },
  {
   "cell_type": "markdown",
   "id": "5e7ec583-6f1b-4efd-b8e9-a73dbdaea34c",
   "metadata": {},
   "source": [
    "## File Paths"
   ]
  },
  {
   "cell_type": "code",
   "execution_count": null,
   "id": "26f5dd20-bd85-48f4-987a-04c9391fd600",
   "metadata": {},
   "outputs": [],
   "source": [
    "weight_dir = './models/'\n",
    "log_dir = './logs/'\n",
    "\n",
    "model_file = weight_dir + model_selection + '_' + dataset_selection + '_' + 'holdout' + '_' + str(holdout_classes) + '.pt'\n",
    "recall_file = log_dir + model_selection + '_' + dataset_selection + '_' + 'holdout' + '_' + str(holdout_classes) + 'recall.npy'\n",
    "train_losses_file = log_dir + model_selection + '_' + dataset_selection + '_' + 'holdout' + '_' + str(holdout_classes) + 'train_loss.txt'\n",
    "test_losses_file = log_dir + model_selection + '_' + dataset_selection + '_' + 'holdout' + '_' + str(holdout_classes) + 'test_loss.txt'"
   ]
  },
  {
   "cell_type": "markdown",
   "id": "89fa83ec-13e0-4534-a031-7f8cc8e81447",
   "metadata": {},
   "source": [
    "## Hyperparameters"
   ]
  },
  {
   "cell_type": "code",
   "execution_count": null,
   "id": "1c30d0a6-5049-4970-88ed-a4989f61eb64",
   "metadata": {},
   "outputs": [],
   "source": [
    "num_epochs = 15\n",
    "\n",
    "initial_learning_rate = 0.001\n",
    "final_learning_rate = 0.0001\n",
    "\n",
    "# initial_lr * decay_rate^num_epochs = final_lr\n",
    "decay_rate = (final_learning_rate/initial_learning_rate)**(1/num_epochs)\n",
    "\n",
    "loss_fn = torch.nn.CrossEntropyLoss()\n",
    "#optimizer = torch.optim.SGD(model.parameters(), lr=initial_learning_rate)\n",
    "optimizer = torch.optim.Adam(model.parameters(), lr=initial_learning_rate)\n",
    "#optimizer = torch.optim.AdamW(model.parameters(), lr=initial_learning_rate)\n",
    "lr_scheduler = torch.optim.lr_scheduler.ExponentialLR(optimizer=optimizer, gamma=decay_rate)"
   ]
  },
  {
   "cell_type": "markdown",
   "id": "a4b5b194-ba6f-465c-a12f-6da358e6eaae",
   "metadata": {},
   "source": [
    "## Training Loop"
   ]
  },
  {
   "cell_type": "code",
   "execution_count": null,
   "id": "a8b777d8-3de4-437b-86e4-4379edaa7d50",
   "metadata": {},
   "outputs": [],
   "source": [
    "train_losses = []\n",
    "test_losses = []\n",
    "#t = trange(num_epochs)\n",
    "t = range(num_epochs)\n",
    "y_preds = []\n",
    "y_actuals = []\n",
    "\n",
    "for epoch in t:\n",
    "    print(f\"Epoch {epoch+1}\\n-------------------------------\")\n",
    "    train_loss = train(train_inc_loader, model, loss_fn, optimizer, device)\n",
    "    test_loss, y_pred, y_actual = test(test_inc_loader, model, loss_fn, device)\n",
    "    print(y_pred[:2])\n",
    "    train_losses.append(train_loss)\n",
    "    test_losses.append(test_loss)\n",
    "    y_preds.append(y_pred)\n",
    "    y_actuals.append(y_actual)\n",
    "    \n",
    "    #t.set_description(f\"Epoch {epoch} train loss: {epoch_loss_train[-1]:.3f}\")\n",
    "    lr_scheduler.step()\n",
    "    \n",
    "torch.save(model.state_dict(), model_file)\n",
    "\n",
    "recalls = get_recall_per_epoch(y_actuals, y_preds, num_classes)\n",
    "np.save(recall_file, recalls)\n",
    "\n",
    "with open(train_losses_file, 'w') as fp:\n",
    "    for s in train_losses:\n",
    "        fp.write(\"%s\\n\" % s)\n",
    "        \n",
    "with open(test_losses_file, 'w') as fp:\n",
    "    for x in test_losses:\n",
    "        fp.write(\"%s\\n\" % x)\n",
    "\n",
    "print(\"Done!\")"
   ]
  },
  {
   "cell_type": "code",
   "execution_count": null,
   "id": "03f02457-1674-44c7-8334-d197f89a6b15",
   "metadata": {},
   "outputs": [],
   "source": [
    "recalls_loaded = np.load(recall_file)\n",
    "print(recalls == recalls_loaded)\n",
    "# plots"
   ]
  }
 ],
 "metadata": {
  "kernelspec": {
   "display_name": "Python 3 (ipykernel)",
   "language": "python",
   "name": "python3"
  },
  "language_info": {
   "codemirror_mode": {
    "name": "ipython",
    "version": 3
   },
   "file_extension": ".py",
   "mimetype": "text/x-python",
   "name": "python",
   "nbconvert_exporter": "python",
   "pygments_lexer": "ipython3",
   "version": "3.9.12"
  }
 },
 "nbformat": 4,
 "nbformat_minor": 5
}
