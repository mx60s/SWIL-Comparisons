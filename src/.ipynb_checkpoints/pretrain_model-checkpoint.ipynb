{
 "cells": [
  {
   "cell_type": "code",
   "execution_count": 1,
   "id": "3db56d09-d308-4a30-a083-a45d924a20f8",
   "metadata": {},
   "outputs": [
    {
     "name": "stderr",
     "output_type": "stream",
     "text": [
      "/opt/conda/lib/python3.10/site-packages/tqdm/auto.py:22: TqdmWarning: IProgress not found. Please update jupyter and ipywidgets. See https://ipywidgets.readthedocs.io/en/stable/user_install.html\n",
      "  from .autonotebook import tqdm as notebook_tqdm\n"
     ]
    }
   ],
   "source": [
    "import torch\n",
    "import matplotlib.pyplot as plt\n",
    "import numpy as np\n",
    "\n",
    "from torch.utils.data import DataLoader\n",
    "\n",
    "from torchvision import transforms\n",
    "from torchvision.datasets import CIFAR10, FashionMNIST\n",
    "\n",
    "from tqdm.autonotebook import tqdm, trange\n",
    "\n",
    "from utils.nets import *\n",
    "from utils.model_tools import train, test, get_recall_per_epoch\n",
    "from utils.dataset_tools import split_training_data"
   ]
  },
  {
   "cell_type": "code",
   "execution_count": 2,
   "id": "4fbc9819-6fed-4138-9014-d43b26cb97c0",
   "metadata": {},
   "outputs": [
    {
     "name": "stdout",
     "output_type": "stream",
     "text": [
      "Using cpu device\n"
     ]
    }
   ],
   "source": [
    "# Get cpu or gpu device for training.\n",
    "device = \"cuda\" if torch.cuda.is_available() else \"cpu\"\n",
    "print(f\"Using {device} device\")"
   ]
  },
  {
   "cell_type": "code",
   "execution_count": 3,
   "id": "94cc5f09-925b-41bb-a7e8-d7055b6974d3",
   "metadata": {},
   "outputs": [],
   "source": [
    "# FashionMNIST\n",
    "# [\"T-shirt/top\", \"Trouser\", \"Pullover\", \"Dress\", \"Coat\", \"Sandal\", \"Shirt\", \"Sneaker\", \"Bag\", \"Ankle boot\"]\n",
    "\n",
    "# CIFAR-10\n",
    "# []"
   ]
  },
  {
   "cell_type": "code",
   "execution_count": 4,
   "id": "eb412051-7fb3-4282-a646-f48694bf9346",
   "metadata": {},
   "outputs": [],
   "source": [
    "model_selection = 'linear' # linear | cnn | vgg\n",
    "dataset_selection = 'fashionmnist' # cifar10 | fashionmnist\n",
    "holdout_classes = [8, 9]\n",
    "\n",
    "batch_size = 32"
   ]
  },
  {
   "cell_type": "markdown",
   "id": "9a9a4f48-74b5-425a-ae58-b2bce66ee6fe",
   "metadata": {
    "tags": []
   },
   "source": [
    "# Data Preparation"
   ]
  },
  {
   "cell_type": "code",
   "execution_count": 5,
   "id": "fea5d479-967e-4a3b-8bf3-4cfbe8a46540",
   "metadata": {},
   "outputs": [],
   "source": [
    "if dataset_selection == 'fashionmnist':\n",
    "    transform = transforms.Compose([\n",
    "        transforms.ToTensor(),\n",
    "        transforms.Normalize((0.5), (0.5))]) # Images are grayscale -> 1 channel\n",
    "else:\n",
    "    transform = transforms.Compose([\n",
    "        transforms.ToTensor(),\n",
    "        transforms.Normalize((0.5, 0.5, 0.5), (0.5, 0.5, 0.5))])"
   ]
  },
  {
   "cell_type": "markdown",
   "id": "d691d724-11c0-4aca-90ad-c009291589a6",
   "metadata": {
    "tags": []
   },
   "source": [
    "## Load Dataset"
   ]
  },
  {
   "cell_type": "code",
   "execution_count": 6,
   "id": "74cc57ef-04e9-44f1-a2f2-938359146d3c",
   "metadata": {},
   "outputs": [],
   "source": [
    "if dataset_selection == 'cifar10':\n",
    "    train_data = CIFAR10(root='./data', train=True, download=True, transform=transform)\n",
    "    test_data = CIFAR10(root='./data', train=False, download=True, transform=transform)\n",
    "elif dataset_selection == 'fashionmnist':\n",
    "    train_data = FashionMNIST(root='./data', train=True, download=True, transform=transform)\n",
    "    test_data = FashionMNIST(root='./data', train=False, download=True, transform=transform)"
   ]
  },
  {
   "cell_type": "code",
   "execution_count": 7,
   "id": "c17d0133-5b9b-4767-a581-4f235021ee6e",
   "metadata": {},
   "outputs": [],
   "source": [
    "total_classes = len(torch.unique(train_data.targets))"
   ]
  },
  {
   "cell_type": "markdown",
   "id": "8c9f397d-58df-46fd-aaa2-0174ea088b20",
   "metadata": {},
   "source": [
    "## Create Subsets"
   ]
  },
  {
   "cell_type": "code",
   "execution_count": 8,
   "id": "d449c638-6f7d-421c-bcf4-1113a103ecea",
   "metadata": {},
   "outputs": [],
   "source": [
    "included_data, excluded_data = split_training_data(train_data, holdout_classes) \n",
    "\n",
    "train_inc_loader = DataLoader(included_data, batch_size=batch_size, shuffle=True, num_workers=2)\n",
    "train_exc_loader = DataLoader(included_data, batch_size=batch_size, shuffle=True, num_workers=2)"
   ]
  },
  {
   "cell_type": "code",
   "execution_count": 9,
   "id": "92a48a13-2cc4-44fa-bfca-c3297e0fe5dc",
   "metadata": {},
   "outputs": [],
   "source": [
    "included_data, excluded_data = split_training_data(test_data, holdout_classes)\n",
    "\n",
    "test_inc_loader = DataLoader(included_data, batch_size=batch_size, shuffle=True, num_workers=2)\n",
    "test_exc_loader = DataLoader(included_data, batch_size=batch_size, shuffle=True, num_workers=2)"
   ]
  },
  {
   "cell_type": "markdown",
   "id": "f1b6288b-b051-478f-9210-db9a12954f4c",
   "metadata": {},
   "source": [
    "# Train Model"
   ]
  },
  {
   "cell_type": "markdown",
   "id": "b57d09e7-2dc6-4aea-aea7-6acebb722354",
   "metadata": {},
   "source": [
    "## Load Architecture"
   ]
  },
  {
   "cell_type": "code",
   "execution_count": 10,
   "id": "b8feacc4-0223-467a-ab76-23ec70c5bc12",
   "metadata": {},
   "outputs": [],
   "source": [
    "num_classes = total_classes - len(holdout_classes)\n",
    "\n",
    "if model_selection == 'linear':\n",
    "    model = LinearFashionMNIST_alt(28*28, num_classes)\n",
    "elif model_selection == 'cnn':\n",
    "    pass"
   ]
  },
  {
   "cell_type": "markdown",
   "id": "89fa83ec-13e0-4534-a031-7f8cc8e81447",
   "metadata": {},
   "source": [
    "## Hyperparameters"
   ]
  },
  {
   "cell_type": "code",
   "execution_count": 11,
   "id": "1c30d0a6-5049-4970-88ed-a4989f61eb64",
   "metadata": {},
   "outputs": [],
   "source": [
    "weight_dir = './weights/'\n",
    "model_file = weight_dir + model_selection + '_' + dataset_selection + '_' + 'holdout' + '_' + str(holdout_classes) + '.pt'\n",
    "recall_file = weight_dir + model_selection + '_' + dataset_selection + '_' + 'holdout' + '_' + str(holdout_classes) + 'recall.npy'\n",
    "train_losses_file = weight_dir + model_selection + '_' + dataset_selection + '_' + 'holdout' + '_' + str(holdout_classes) + 'train_loss.txt'\n",
    "test_losses_file = weight_dir + model_selection + '_' + dataset_selection + '_' + 'holdout' + '_' + str(holdout_classes) + 'test_loss.txt'\n",
    "\n",
    "num_epochs = 15\n",
    "\n",
    "initial_learning_rate = 0.001\n",
    "final_learning_rate = 0.0001\n",
    "\n",
    "# initial_lr * decay_rate^num_epochs = final_lr\n",
    "decay_rate = (final_learning_rate/initial_learning_rate)**(1/num_epochs)\n",
    "\n",
    "loss_fn = torch.nn.CrossEntropyLoss()\n",
    "#optimizer = torch.optim.SGD(model.parameters(), lr=initial_learning_rate)\n",
    "optimizer = torch.optim.Adam(model.parameters(), lr=initial_learning_rate)\n",
    "#optimizer = torch.optim.AdamW(model.parameters(), lr=initial_learning_rate)\n",
    "lr_scheduler = torch.optim.lr_scheduler.ExponentialLR(optimizer=optimizer, gamma=decay_rate)"
   ]
  },
  {
   "cell_type": "markdown",
   "id": "a4b5b194-ba6f-465c-a12f-6da358e6eaae",
   "metadata": {},
   "source": [
    "## Training Loop"
   ]
  },
  {
   "cell_type": "code",
   "execution_count": 13,
   "id": "a8b777d8-3de4-437b-86e4-4379edaa7d50",
   "metadata": {},
   "outputs": [
    {
     "name": "stdout",
     "output_type": "stream",
     "text": [
      "Epoch 1\n",
      "-------------------------------\n",
      "loss: 0.560576  [    0/48000]\n",
      "loss: 0.301622  [32000/48000]\n",
      "Test Error: \n",
      " Accuracy: 82.7%, Avg loss: 0.475402 \n",
      "\n",
      "Done!\n"
     ]
    }
   ],
   "source": [
    "train_losses = []\n",
    "test_losses = []\n",
    "#t = trange(num_epochs)\n",
    "t = range(num_epochs)\n",
    "y_preds = []\n",
    "y_actuals = []\n",
    "\n",
    "for epoch in t:\n",
    "    print(f\"Epoch {epoch+1}\\n-------------------------------\")\n",
    "    train_loss = train(train_inc_loader, model, loss_fn, optimizer, device)\n",
    "    test_loss, y_pred, y_actual = test(test_inc_loader, model, loss_fn, device)\n",
    "    train_losses.append(train_loss)\n",
    "    test_losses.append(test_loss)\n",
    "    y_preds.append(y_pred)\n",
    "    y_actuals.append(y_actual)\n",
    "    \n",
    "    #t.set_description(f\"Epoch {epoch} train loss: {epoch_loss_train[-1]:.3f}\")\n",
    "    lr_scheduler.step()\n",
    "    \n",
    "torch.save(model.state_dict(), model_file)\n",
    "\n",
    "recalls = get_recall_per_epoch(y_actuals, y_preds, num_classes)\n",
    "np.save(recall_file, recalls)\n",
    "\n",
    "with open(train_losses_file, 'w') as fp:\n",
    "    for s in train_losses:\n",
    "        fp.write(\"%s\\n\" % s)\n",
    "        \n",
    "with open(test_losses_file, 'w') as fp:\n",
    "    for x in test_losses:\n",
    "        fp.write(\"%s\\n\" % x)\n",
    "\n",
    "print(\"Done!\")"
   ]
  },
  {
   "cell_type": "code",
   "execution_count": 14,
   "id": "03f02457-1674-44c7-8334-d197f89a6b15",
   "metadata": {},
   "outputs": [
    {
     "name": "stdout",
     "output_type": "stream",
     "text": [
      "[[ True]\n",
      " [ True]\n",
      " [ True]\n",
      " [ True]\n",
      " [ True]\n",
      " [ True]\n",
      " [ True]\n",
      " [ True]]\n"
     ]
    }
   ],
   "source": [
    "recalls_loaded = np.load(recall_file)\n",
    "print(recalls == recalls_loaded)\n",
    "# plots"
   ]
  },
  {
   "cell_type": "code",
   "execution_count": null,
   "id": "ab987c50-2ec9-4307-905a-0ffd969c3c15",
   "metadata": {},
   "outputs": [],
   "source": []
  }
 ],
 "metadata": {
  "kernelspec": {
   "display_name": "Python 3 (ipykernel)",
   "language": "python",
   "name": "python3"
  },
  "language_info": {
   "codemirror_mode": {
    "name": "ipython",
    "version": 3
   },
   "file_extension": ".py",
   "mimetype": "text/x-python",
   "name": "python",
   "nbconvert_exporter": "python",
   "pygments_lexer": "ipython3",
   "version": "3.10.8"
  }
 },
 "nbformat": 4,
 "nbformat_minor": 5
}
