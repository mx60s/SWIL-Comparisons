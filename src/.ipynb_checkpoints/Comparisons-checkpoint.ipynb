{
 "cells": [
  {
   "cell_type": "code",
   "execution_count": null,
   "id": "b7dd356b",
   "metadata": {},
   "outputs": [],
   "source": [
    "from google.colab import drive\n",
    "drive.mount('/content/gdrive')"
   ]
  },
  {
   "cell_type": "code",
   "execution_count": null,
   "id": "77a982a6",
   "metadata": {},
   "outputs": [],
   "source": [
    "%cd / content/gdrive/MyDrive/research\n",
    "! pip3 install -r requirements.txt"
   ]
  },
  {
   "cell_type": "code",
   "execution_count": null,
   "id": "c3e809e9",
   "metadata": {},
   "outputs": [],
   "source": [
    "import sys\n",
    "sys.path.append('/content/drive/MyDrive/research/src')"
   ]
  },
  {
   "cell_type": "code",
   "execution_count": 1,
   "id": "333931f7",
   "metadata": {},
   "outputs": [],
   "source": [
    "import torch\n",
    "import torchvision\n",
    "import torchvision.transforms as transforms\n",
    "import torch.optim as optim\n",
    "\n",
    "import matplotlib.pyplot as plt\n",
    "import numpy as np\n",
    "\n",
    "from utils.nets import *\n",
    "from utils.model_tools import *\n",
    "from utils.feature_extractor import *\n",
    "from utils.dataset_tools import *\n",
    "from utils.cosine_similarity import *\n",
    "\n",
    "# TODO: clean these up later\n",
    "from torchvision.datasets import CIFAR10, FashionMNIST"
   ]
  },
  {
   "cell_type": "markdown",
   "id": "cec880f0",
   "metadata": {},
   "source": [
    "### Questions\n",
    "- SWIL vs FIL or SWIL vs nothing\n",
    "- principle component analysis?"
   ]
  },
  {
   "cell_type": "markdown",
   "id": "de0ddb0f",
   "metadata": {},
   "source": [
    "### Notes\n",
    "\n",
    "- train or get no-il model files (retrained)\n",
    "- train or get swil model files (retrained)\n",
    "- looking at l2 distance between centroids\n",
    "- representations of classes from the last layer\n",
    "- examine that data and visualize it to understand"
   ]
  },
  {
   "cell_type": "code",
   "execution_count": 2,
   "id": "6f17bbc6",
   "metadata": {},
   "outputs": [],
   "source": [
    "pretrained_path = \"./models/linear_fashionmnist_holdout_[8, 9].pt\"\n",
    "swil_retrained_frozen_path = \"./models/linear_fashionmnist_holdout_[8]_swil.pt\" # this correct or swil?\n",
    "fil_retrained_frozen_path = \"./models/linear_fashionmnist_holdout_[8]fil.pt\" # not sure this one is good"
   ]
  },
  {
   "cell_type": "code",
   "execution_count": 15,
   "id": "cb7a2467",
   "metadata": {},
   "outputs": [],
   "source": [
    "layer_names = ['input_layer', 'output_layer']\n",
    "\n",
    "pretrained = torch.load(pretrained_path)\n",
    "swil_ckpt = torch.load(swil_retrained_frozen_path)\n",
    "fil_ckpt = torch.load(fil_retrained_frozen_path)\n",
    "\n",
    "num_outputs = swil_ckpt['output_layer.weight'].shape[0]\n",
    "input_size = swil_ckpt['input_layer.weight'].shape[1]\n",
    "\n",
    "swil_retrained = nets.LinearFashionMNIST_alt(input_size, num_outputs)\n",
    "fil_retrained = nets.LinearFashionMNIST_alt(input_size, num_outputs)\n",
    "swil_retrained.load_state_dict(swil_ckpt)\n",
    "fil_retrained.load_state_dict(fil_ckpt)\n",
    "\n",
    "swil_feat = FeatureExtractor(swil_retrained, layers=layer_names)\n",
    "fil_feat = FeatureExtractor(fil_retrained, layers=layer_names)"
   ]
  },
  {
   "cell_type": "code",
   "execution_count": 16,
   "id": "a8904fd8",
   "metadata": {},
   "outputs": [
    {
     "name": "stdout",
     "output_type": "stream",
     "text": [
      "9000\n"
     ]
    }
   ],
   "source": [
    "transform = transforms.Compose([\n",
    "        transforms.ToTensor(),\n",
    "        transforms.Normalize((0.5), (0.5)),]) # Images are grayscale -> 1 channel\n",
    "\n",
    "test_data = FashionMNIST(root='./data', train=False, download=True, transform=transform)\n",
    "\n",
    "included_data, excluded_data = split_training_data(test_data, [8]) # excluding 8? seems wrong?\n",
    "loader = DataLoader(included_data, batch_size=1, shuffle=True, num_workers=2)\n",
    "print(len(loader))"
   ]
  },
  {
   "cell_type": "code",
   "execution_count": 19,
   "id": "cc493d2c-02e1-4c7e-a619-7ce3becea764",
   "metadata": {},
   "outputs": [],
   "source": [
    "# TODO figure out what's going on with swap and maybe retrain models if need be\n",
    "# although accuracy is looking ok right now for fil and swil, maybe swil a bit low\n",
    "\n",
    "# need to store x and y or will loader give it in the same order later?\n",
    "fil_points = {'input_layer': np.zeros((len(loader), 128)), 'output_layer': np.zeros((len(loader), 9))} # 3d matrix: layer activations per example per layer (dimension of layer output?)\n",
    "swil_points = {'input_layer': np.zeros((len(loader), 128)), 'output_layer': np.zeros((len(loader), 9))}\n",
    "\n",
    "#fil_retrained.eval()\n",
    "#swil_retrained.eval()\n",
    "with torch.no_grad():\n",
    "    for step, (x, y) in enumerate(loader):\n",
    "        # don't forget to swap labels\n",
    "        for i in range(len(y)):\n",
    "            if y[i] == 9: # do I need to swap labels at all\n",
    "                y[i] = 8\n",
    "        fil_actives = fil_feat(x)\n",
    "        swil_actives = swil_feat(x)\n",
    "        for layer in layer_names:\n",
    "            fil_points[layer][step] = fil_actives[layer].numpy().flatten()\n",
    "            swil_points[layer][step] = swil_actives[layer].numpy().flatten()\n",
    "        "
   ]
  },
  {
   "cell_type": "code",
   "execution_count": null,
   "id": "15e70e81-2bf0-4b48-9d5d-e3634e625ec0",
   "metadata": {},
   "outputs": [],
   "source": [
    "from sklearn.metrics import pairwise_distances\n",
    "\n",
    "# pairwise matrix of distances between samples and group by class to visualize patterns\n",
    "fil_dist = {}\n",
    "swil_dist = {}\n",
    "\n",
    "for layer in layer_names:\n",
    "    fil_dist[layer] = pairwise_distances(fil_points[layer])\n",
    "    swil_dist[layer] = pairwise_distances(swil_points[layer])\n",
    "    #il_dist[layer] = np.linalg.norm(fil_points[layer][:, None, :] - fil_points[layer][None, :, :], axis=-1)\n",
    "    #wil_dist[layer] = np.linalg.norm(swil_points[layer][:, None, :] - swil_points[layer][None, :, :], axis=-1)\n",
    "    plt.matshow(fil_dist[layer])\n",
    "    plt.matshow(swil_dist[layer])\n",
    "\n",
    "plt.show()"
   ]
  },
  {
   "cell_type": "code",
   "execution_count": null,
   "id": "83bde9e7-24ee-4392-93b9-a5a6f6c2cd38",
   "metadata": {},
   "outputs": [],
   "source": []
  }
 ],
 "metadata": {
  "kernelspec": {
   "display_name": "Python 3 (ipykernel)",
   "language": "python",
   "name": "python3"
  },
  "language_info": {
   "codemirror_mode": {
    "name": "ipython",
    "version": 3
   },
   "file_extension": ".py",
   "mimetype": "text/x-python",
   "name": "python",
   "nbconvert_exporter": "python",
   "pygments_lexer": "ipython3",
   "version": "3.10.8"
  }
 },
 "nbformat": 4,
 "nbformat_minor": 5
}
